{
 "cells": [
  {
   "cell_type": "markdown",
   "id": "3176e354",
   "metadata": {},
   "source": [
    "# GRIP:- The Spark Foundations"
   ]
  },
  {
   "cell_type": "markdown",
   "id": "dac8bb3e",
   "metadata": {},
   "source": [
    "# Data Science and Business Analytics -"
   ]
  },
  {
   "cell_type": "markdown",
   "id": "f7f0ae40",
   "metadata": {},
   "source": [
    "# Internship Creator:- Arunachalam.N"
   ]
  },
  {
   "cell_type": "markdown",
   "id": "1f3fa2f1",
   "metadata": {},
   "source": [
    "# Task-1: Prediction using supervised ML"
   ]
  },
  {
   "cell_type": "markdown",
   "id": "3fb151d3",
   "metadata": {},
   "source": [
    "# 1.From the given dataset\"Student Scores\" we have to predict percentage of marks that a student is expected to score based upon the number of hours they studied"
   ]
  },
  {
   "cell_type": "code",
   "execution_count": 3,
   "id": "477b6be3",
   "metadata": {},
   "outputs": [],
   "source": [
    "\n",
    "# Required Libraries\n",
    "import pandas as pd\n",
    "import numpy as np\n",
    "import matplotlib.pyplot as plt\n",
    "from sklearn import metrics\n",
    "from sklearn.model_selection import train_test_split\n",
    "from sklearn.linear_model import LinearRegression"
   ]
  },
  {
   "cell_type": "markdown",
   "id": "3f5c15ca",
   "metadata": {},
   "source": [
    "# Step 1 - Read Dataset"
   ]
  },
  {
   "cell_type": "code",
   "execution_count": 5,
   "id": "42f08716",
   "metadata": {},
   "outputs": [],
   "source": [
    "\n",
    "df = pd.read_csv('https://raw.githubusercontent.com/AdiPersonalWorks/Random/master/student_scores%20-%20student_scores.csv')"
   ]
  },
  {
   "cell_type": "code",
   "execution_count": 6,
   "id": "b800b1ee",
   "metadata": {},
   "outputs": [
    {
     "data": {
      "text/html": [
       "<div>\n",
       "<style scoped>\n",
       "    .dataframe tbody tr th:only-of-type {\n",
       "        vertical-align: middle;\n",
       "    }\n",
       "\n",
       "    .dataframe tbody tr th {\n",
       "        vertical-align: top;\n",
       "    }\n",
       "\n",
       "    .dataframe thead th {\n",
       "        text-align: right;\n",
       "    }\n",
       "</style>\n",
       "<table border=\"1\" class=\"dataframe\">\n",
       "  <thead>\n",
       "    <tr style=\"text-align: right;\">\n",
       "      <th></th>\n",
       "      <th>Hours</th>\n",
       "      <th>Scores</th>\n",
       "    </tr>\n",
       "  </thead>\n",
       "  <tbody>\n",
       "    <tr>\n",
       "      <th>0</th>\n",
       "      <td>2.5</td>\n",
       "      <td>21</td>\n",
       "    </tr>\n",
       "    <tr>\n",
       "      <th>1</th>\n",
       "      <td>5.1</td>\n",
       "      <td>47</td>\n",
       "    </tr>\n",
       "    <tr>\n",
       "      <th>2</th>\n",
       "      <td>3.2</td>\n",
       "      <td>27</td>\n",
       "    </tr>\n",
       "    <tr>\n",
       "      <th>3</th>\n",
       "      <td>8.5</td>\n",
       "      <td>75</td>\n",
       "    </tr>\n",
       "    <tr>\n",
       "      <th>4</th>\n",
       "      <td>3.5</td>\n",
       "      <td>30</td>\n",
       "    </tr>\n",
       "  </tbody>\n",
       "</table>\n",
       "</div>"
      ],
      "text/plain": [
       "   Hours  Scores\n",
       "0    2.5      21\n",
       "1    5.1      47\n",
       "2    3.2      27\n",
       "3    8.5      75\n",
       "4    3.5      30"
      ]
     },
     "execution_count": 6,
     "metadata": {},
     "output_type": "execute_result"
    }
   ],
   "source": [
    "df.head()"
   ]
  },
  {
   "cell_type": "markdown",
   "id": "4f01a1d6",
   "metadata": {},
   "source": [
    "# Step 2 - Visualize the Data\n"
   ]
  },
  {
   "cell_type": "code",
   "execution_count": 9,
   "id": "2191b277",
   "metadata": {},
   "outputs": [
    {
     "data": {
      "text/plain": [
       "Text(0, 0.5, 'Percentage Scored')"
      ]
     },
     "execution_count": 9,
     "metadata": {},
     "output_type": "execute_result"
    },
    {
     "data": {
      "image/png": "[encoded data removed]",
      "text/plain": [
       "<Figure size 432x288 with 1 Axes>"
      ]
     },
     "metadata": {
      "needs_background": "light"
     },
     "output_type": "display_data"
    }
   ],
   "source": [
    "df.plot(x=\"Hours\",y=\"Scores\",style='*' ,color='red' )\n",
    "plt.title(\"Hours VS Percentage\")\n",
    "plt.xlabel(\"Hours Spend\")\n",
    "plt.ylabel(\"Percentage Scored\")"
   ]
  },
  {
   "cell_type": "markdown",
   "id": "3d981328",
   "metadata": {},
   "source": [
    "From The Graph, it clearly shows that the model posses Positively Linear relationship between the working hour and percentage score"
   ]
  },
  {
   "cell_type": "markdown",
   "id": "64e95e25",
   "metadata": {},
   "source": [
    "# Step 3 - Data Preprocessing"
   ]
  },
  {
   "cell_type": "code",
   "execution_count": 10,
   "id": "c1e70fac",
   "metadata": {},
   "outputs": [],
   "source": [
    "# Converting array into data's\n",
    "X = df.iloc[:, :-1].values\n",
    "y = df.iloc[:, 1].values\n"
   ]
  },
  {
   "cell_type": "markdown",
   "id": "efd8b6e9",
   "metadata": {},
   "source": [
    "# Step 4 - Model Training"
   ]
  },
  {
   "cell_type": "code",
   "execution_count": 13,
   "id": "7bb24fa4",
   "metadata": {},
   "outputs": [
    {
     "name": "stdout",
     "output_type": "stream",
     "text": [
      "Training complete.\n"
     ]
    }
   ],
   "source": [
    "#Splitting the data into training and testing sets, and training the algorithm.\n",
    "X_train, X_test, y_train, y_test = train_test_split(X, y, test_size=0.2, random_state=0)\n",
    "regressor = LinearRegression()\n",
    "regressor.fit(X_train, y_train)\n",
    "print(\"Training complete.\")"
   ]
  },
  {
   "cell_type": "markdown",
   "id": "65fdb265",
   "metadata": {},
   "source": [
    "# Step 5 - Plotting Linear Regression"
   ]
  },
  {
   "cell_type": "code",
   "execution_count": 21,
   "id": "f19cf40c",
   "metadata": {},
   "outputs": [
    {
     "data": {
      "image/png": "[encoded data removed]",
      "text/plain": [
       "<Figure size 432x288 with 1 Axes>"
      ]
     },
     "metadata": {
      "needs_background": "light"
     },
     "output_type": "display_data"
    }
   ],
   "source": [
    "# Plotting the regression line\n",
    "line = regressor.coef_*X+regressor.intercept_\n",
    "# Plotting for the test data\n",
    "plt.scatter(X, y)\n",
    "plt.plot(X, line,color='red')\n",
    "plt.title(\"Hours VS Percentage\")\n",
    "plt.xlabel(\"Hours Spend\")\n",
    "plt.ylabel(\"Percentage Scored\")\n",
    "plt.show()"
   ]
  },
  {
   "cell_type": "markdown",
   "id": "ecbf7cc8",
   "metadata": {},
   "source": [
    "# Step 6 - Making Prediction"
   ]
  },
  {
   "cell_type": "code",
   "execution_count": 22,
   "id": "f5277e95",
   "metadata": {},
   "outputs": [
    {
     "data": {
      "text/plain": [
       "array([[1.5],\n",
       "       [3.2],\n",
       "       [7.4],\n",
       "       [2.5],\n",
       "       [5.9]])"
      ]
     },
     "execution_count": 22,
     "metadata": {},
     "output_type": "execute_result"
    }
   ],
   "source": [
    "X_test"
   ]
  },
  {
   "cell_type": "code",
   "execution_count": 23,
   "id": "e3d90ba1",
   "metadata": {},
   "outputs": [],
   "source": [
    "y_predict=regressor.predict(X_test)"
   ]
  },
  {
   "cell_type": "code",
   "execution_count": 24,
   "id": "a7f14a83",
   "metadata": {},
   "outputs": [
    {
     "data": {
      "text/plain": [
       "array([16.88414476, 33.73226078, 75.357018  , 26.79480124, 60.49103328])"
      ]
     },
     "execution_count": 24,
     "metadata": {},
     "output_type": "execute_result"
    }
   ],
   "source": [
    "y_predict"
   ]
  },
  {
   "cell_type": "markdown",
   "id": "ace7ca49",
   "metadata": {},
   "source": [
    "# Step 7 - Comparing Actual Vs Predicted"
   ]
  },
  {
   "cell_type": "code",
   "execution_count": 25,
   "id": "291ea49c",
   "metadata": {},
   "outputs": [],
   "source": [
    "compare = pd.DataFrame({'Actual': y_test, 'Predicted': y_predict})"
   ]
  },
  {
   "cell_type": "code",
   "execution_count": 26,
   "id": "dde05573",
   "metadata": {},
   "outputs": [
    {
     "data": {
      "text/html": [
       "<div>\n",
       "<style scoped>\n",
       "    .dataframe tbody tr th:only-of-type {\n",
       "        vertical-align: middle;\n",
       "    }\n",
       "\n",
       "    .dataframe tbody tr th {\n",
       "        vertical-align: top;\n",
       "    }\n",
       "\n",
       "    .dataframe thead th {\n",
       "        text-align: right;\n",
       "    }\n",
       "</style>\n",
       "<table border=\"1\" class=\"dataframe\">\n",
       "  <thead>\n",
       "    <tr style=\"text-align: right;\">\n",
       "      <th></th>\n",
       "      <th>Actual</th>\n",
       "      <th>Predicted</th>\n",
       "    </tr>\n",
       "  </thead>\n",
       "  <tbody>\n",
       "    <tr>\n",
       "      <th>0</th>\n",
       "      <td>20</td>\n",
       "      <td>16.884145</td>\n",
       "    </tr>\n",
       "    <tr>\n",
       "      <th>1</th>\n",
       "      <td>27</td>\n",
       "      <td>33.732261</td>\n",
       "    </tr>\n",
       "    <tr>\n",
       "      <th>2</th>\n",
       "      <td>69</td>\n",
       "      <td>75.357018</td>\n",
       "    </tr>\n",
       "    <tr>\n",
       "      <th>3</th>\n",
       "      <td>30</td>\n",
       "      <td>26.794801</td>\n",
       "    </tr>\n",
       "    <tr>\n",
       "      <th>4</th>\n",
       "      <td>62</td>\n",
       "      <td>60.491033</td>\n",
       "    </tr>\n",
       "  </tbody>\n",
       "</table>\n",
       "</div>"
      ],
      "text/plain": [
       "   Actual  Predicted\n",
       "0      20  16.884145\n",
       "1      27  33.732261\n",
       "2      69  75.357018\n",
       "3      30  26.794801\n",
       "4      62  60.491033"
      ]
     },
     "execution_count": 26,
     "metadata": {},
     "output_type": "execute_result"
    }
   ],
   "source": [
    "compare.head()"
   ]
  },
  {
   "cell_type": "code",
   "execution_count": 27,
   "id": "84e0de4e",
   "metadata": {},
   "outputs": [
    {
     "name": "stdout",
     "output_type": "stream",
     "text": [
      "Training Score: 0.9515510725211552\n",
      "Test Score: 0.9454906892105356\n"
     ]
    }
   ],
   "source": [
    "print(\"Training Score:\",regressor.score(X_train,y_train))\n",
    "print(\"Test Score:\",regressor.score(X_test,y_test))\n"
   ]
  },
  {
   "cell_type": "code",
   "execution_count": 30,
   "id": "472da3e8",
   "metadata": {},
   "outputs": [
    {
     "name": "stdout",
     "output_type": "stream",
     "text": [
      "No of Hours = 9.25\n",
      "Predicted Score = 93.69173248737538\n"
     ]
    }
   ],
   "source": [
    "# Prediction on 9.25 hours\n",
    "\n",
    "hours = 9.25\n",
    "test = np.array([hours])\n",
    "test = test.reshape(-1, 1)\n",
    "own_pred = regressor.predict(test)\n",
    "print(\"No of Hours = {}\".format(hours))\n",
    "print(\"Predicted Score = {}\".format(own_pred[0]))"
   ]
  },
  {
   "cell_type": "markdown",
   "id": "b05865e2",
   "metadata": {},
   "source": [
    "The predicted score if a student studies 9.25 hrs/day is 93.69173248737538"
   ]
  },
  {
   "cell_type": "markdown",
   "id": "8c9a7906",
   "metadata": {},
   "source": [
    "# Step 8 - Evaluating the model"
   ]
  },
  {
   "cell_type": "code",
   "execution_count": 31,
   "id": "af510994",
   "metadata": {},
   "outputs": [
    {
     "name": "stdout",
     "output_type": "stream",
     "text": [
      "Mean Absolute Error: 4.183859899002975\n",
      "Mean Squared Error: 21.5987693072174\n",
      "Root Mean Squared Error: 4.6474476121003665\n",
      "R-2: 0.9454906892105356\n"
     ]
    }
   ],
   "source": [
    "print('Mean Absolute Error:',metrics.mean_absolute_error(y_test, y_predict))\n",
    "print('Mean Squared Error:', metrics.mean_squared_error(y_test, y_predict))\n",
    "print('Root Mean Squared Error:', np.sqrt(metrics.mean_squared_error(y_test, y_predict)))\n",
    "print('R-2:', metrics.r2_score(y_test, y_predict))"
   ]
  },
  {
   "cell_type": "markdown",
   "id": "fa0f24df",
   "metadata": {},
   "source": [
    "                                              Thank you for supporting Us!"
   ]
  },
  {
   "cell_type": "code",
   "execution_count": null,
   "id": "773f938f",
   "metadata": {},
   "outputs": [],
   "source": []
  }
 ],
 "metadata": {
  "kernelspec": {
   "display_name": "Python 3",
   "language": "python",
   "name": "python3"
  },
  "language_info": {
   "codemirror_mode": {
    "name": "ipython",
    "version": 3
   },
   "file_extension": ".py",
   "mimetype": "text/x-python",
   "name": "python",
   "nbconvert_exporter": "python",
   "pygments_lexer": "ipython3",
   "version": "3.8.8"
  }
 },
 "nbformat": 4,
 "nbformat_minor": 5
}
